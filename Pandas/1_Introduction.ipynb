{
 "cells": [
  {
   "cell_type": "markdown",
   "metadata": {},
   "source": [
    "# What is Pandas\n",
    "> ### Panadas is a Powerful Python data analysis toolkit\n",
    "> ### Open Source\n",
    "> ### A fast and efficient DataFrame object for data manipulation\n",
    "> ### Reading and writing data structure and different formats : csv ,tsv ,json ,XML,ZIP,txt etc\n",
    "\n",
    "# Pandas Data Structure\n",
    "> ### Series => one dimentional label homogenous\n",
    "> ### DataFrame => two dimentional label heterogenous tableaur structure\n",
    "> ### Panel => three dimentional label array \n",
    "\n",
    "# Pandas vs Numpy\n",
    "> ### NumPy array is used for the implementation of Pandas data objects\n",
    "\n",
    "# installlation\n",
    "> ### pip install Pandas\n",
    "> ### import pandas as pd\n"
   ]
  },
  {
   "cell_type": "code",
   "execution_count": null,
   "metadata": {},
   "outputs": [],
   "source": []
  }
 ],
 "metadata": {
  "kernelspec": {
   "display_name": "Python 3",
   "language": "python",
   "name": "python3"
  },
  "language_info": {
   "codemirror_mode": {
    "name": "ipython",
    "version": 3
   },
   "file_extension": ".py",
   "mimetype": "text/x-python",
   "name": "python",
   "nbconvert_exporter": "python",
   "pygments_lexer": "ipython3",
   "version": "3.6.8"
  }
 },
 "nbformat": 4,
 "nbformat_minor": 2
}
