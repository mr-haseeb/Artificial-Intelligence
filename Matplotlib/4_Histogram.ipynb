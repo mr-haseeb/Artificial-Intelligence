{
 "cells": [
  {
   "cell_type": "markdown",
   "metadata": {},
   "source": [
    "### 1 How to plot two histograms using matplotlib ?\n",
    "### 2 matplotlib plot multiple histograms\n",
    "### 3 matplotlib xlabel\n",
    "### 4 matplotlib ylabel\n",
    "### 5 matplotlib title\n",
    "### 6 matplotlib axis\n",
    "### 7 matplotlib style use\n",
    "### 8 matplotlib grid\n",
    "### 9 matplotlib legend\n",
    "### 10 matplotlib figure size\n",
    "### 11 matplotlib show\n"
   ]
  },
  {
   "cell_type": "markdown",
   "metadata": {},
   "source": [
    "# Plotting Histograms"
   ]
  },
  {
   "cell_type": "code",
   "execution_count": 2,
   "metadata": {},
   "outputs": [],
   "source": [
    "import matplotlib.pyplot as plt\n",
    "import numpy as np \n",
    "import random\n"
   ]
  },
  {
   "cell_type": "code",
   "execution_count": 3,
   "metadata": {},
   "outputs": [],
   "source": [
    "ml_student_age=np.random.randint(18,48,(100))\n",
    "py_student_age=np.random.randint(15,40,(100))\n"
   ]
  },
  {
   "cell_type": "code",
   "execution_count": 5,
   "metadata": {},
   "outputs": [
    {
     "name": "stdout",
     "output_type": "stream",
     "text": [
      "[18 26 18 25 39 44 43 39 29 24 47 39 31 27 40 35 46 20 33 29 31 27 43 38\n",
      " 45 36 24 29 27 22 35 30 30 27 23 44 30 34 21 39 41 45 39 27 26 39 40 36\n",
      " 25 36 30 30 31 46 21 47 23 29 41 47 19 23 46 37 34 22 44 33 37 23 22 30\n",
      " 32 30 43 39 45 20 47 41 22 39 20 33 21 18 32 44 45 24 38 38 44 38 29 26\n",
      " 24 46 27 28]\n",
      "[162 326 386 270  43 307 255 336  62  93 305 146 123 207 268  53 287  60\n",
      " 206 157 227 339 320 271 349 295 260 183 361 164 291 139 171  83 373 383\n",
      " 138 330 356 392 363 153 425 306 312 101  46 274 322 101  48 247 255 272\n",
      " 193 321  42 287 323 207 386 223 310 343 101 409 195  40 144 243 138 385\n",
      " 241  97  15 162  86 390 308 288 295 432  37 385 382 337 397 285 287 275\n",
      "  46 354  30 157 151 436 318  66 240 289]\n"
     ]
    }
   ],
   "source": [
    "print(ml_student_age)\n",
    "print(py_student_age)"
   ]
  },
  {
   "cell_type": "code",
   "execution_count": 9,
   "metadata": {},
   "outputs": [
    {
     "ename": "NameError",
     "evalue": "name 'kwargs' is not defined",
     "output_type": "error",
     "traceback": [
      "\u001b[0;31m---------------------------------------------------------------------------\u001b[0m",
      "\u001b[0;31mNameError\u001b[0m                                 Traceback (most recent call last)",
      "\u001b[0;32m<ipython-input-9-e0ae3fe4f353>\u001b[0m in \u001b[0;36m<module>\u001b[0;34m\u001b[0m\n\u001b[1;32m     16\u001b[0m     \u001b[0mnormed\u001b[0m\u001b[0;34m=\u001b[0m\u001b[0;32mNone\u001b[0m\u001b[0;34m,\u001b[0m\u001b[0;34m\u001b[0m\u001b[0;34m\u001b[0m\u001b[0m\n\u001b[1;32m     17\u001b[0m     \u001b[0mdata\u001b[0m\u001b[0;34m=\u001b[0m\u001b[0;32mNone\u001b[0m\u001b[0;34m,\u001b[0m\u001b[0;34m\u001b[0m\u001b[0;34m\u001b[0m\u001b[0m\n\u001b[0;32m---> 18\u001b[0;31m     \u001b[0;34m**\u001b[0m\u001b[0mkwargs\u001b[0m\u001b[0;34m,\u001b[0m\u001b[0;34m\u001b[0m\u001b[0;34m\u001b[0m\u001b[0m\n\u001b[0m\u001b[1;32m     19\u001b[0m )\n\u001b[1;32m     20\u001b[0m \u001b[0mplt\u001b[0m\u001b[0;34m.\u001b[0m\u001b[0mtitle\u001b[0m\u001b[0;34m(\u001b[0m\u001b[0;34m\"ML student Histogram\"\u001b[0m\u001b[0;34m)\u001b[0m\u001b[0;34m\u001b[0m\u001b[0;34m\u001b[0m\u001b[0m\n",
      "\u001b[0;31mNameError\u001b[0m: name 'kwargs' is not defined"
     ]
    }
   ],
   "source": [
    "plt.hist(ml_student_age,\n",
    "    bins=None,\n",
    "    range=None,\n",
    "    density=None,\n",
    "    weights=None,\n",
    "    cumulative=False,\n",
    "    bottom=None,\n",
    "    histtype='bar',\n",
    "    align='mid',\n",
    "    orientation='vertical',\n",
    "    rwidth=None,\n",
    "    log=False,\n",
    "    color=None,\n",
    "    label=None,\n",
    "    stacked=False,\n",
    "    normed=None,\n",
    "    data=None,\n",
    "    **kwargs,\n",
    ")\n",
    "plt.title(\"ML student Histogram\")\n",
    "plt.xlabel('student age category')\n",
    "plt.ylabel('No of student age ')\n",
    "plt.show()"
   ]
  },
  {
   "cell_type": "code",
   "execution_count": null,
   "metadata": {},
   "outputs": [],
   "source": []
  }
 ],
 "metadata": {
  "kernelspec": {
   "display_name": "Python 3",
   "language": "python",
   "name": "python3"
  },
  "language_info": {
   "codemirror_mode": {
    "name": "ipython",
    "version": 3
   },
   "file_extension": ".py",
   "mimetype": "text/x-python",
   "name": "python",
   "nbconvert_exporter": "python",
   "pygments_lexer": "ipython3",
   "version": "3.6.8"
  }
 },
 "nbformat": 4,
 "nbformat_minor": 2
}
